{
  "nbformat": 4,
  "nbformat_minor": 0,
  "metadata": {
    "colab": {
      "name": "Untitled10.ipynb",
      "provenance": [],
      "toc_visible": true
    },
    "kernelspec": {
      "name": "python3",
      "display_name": "Python 3"
    },
    "accelerator": "GPU"
  },
  "cells": [
    {
      "cell_type": "code",
      "metadata": {
        "id": "bih4sN_Dl1iD",
        "colab_type": "code",
        "colab": {
          "base_uri": "https://localhost:8080/",
          "height": 35
        },
        "outputId": "269a988c-b4cf-40e5-9dbe-036c93eb4bec"
      },
      "source": [
        "%tensorflow_version 1.x\n"
      ],
      "execution_count": 72,
      "outputs": [
        {
          "output_type": "stream",
          "text": [
            "TensorFlow is already loaded. Please restart the runtime to change versions.\n"
          ],
          "name": "stdout"
        }
      ]
    },
    {
      "cell_type": "code",
      "metadata": {
        "id": "TtTbIy5MmYmo",
        "colab_type": "code",
        "colab": {}
      },
      "source": [
        "import tensorflow as tf\n",
        "import numpy as np\n",
        "import pandas as pd\n",
        "import matplotlib.pyplot as plt #이 세개 거의 필수적\n",
        "\n",
        "from tensorflow import keras\n",
        "from tensorflow.keras import optimizers\n",
        "from tensorflow.keras.layers import Dense, Input\n",
        "\n",
        "import time\n"
      ],
      "execution_count": 73,
      "outputs": []
    },
    {
      "cell_type": "markdown",
      "metadata": {
        "id": "kwphQFd3ma06",
        "colab_type": "text"
      },
      "source": [
        "##디바이스\n",
        "리스트 보기"
      ]
    },
    {
      "cell_type": "code",
      "metadata": {
        "id": "jIlBFw2cmdeQ",
        "colab_type": "code",
        "colab": {
          "base_uri": "https://localhost:8080/",
          "height": 35
        },
        "outputId": "d2e2847a-ffce-4833-ae31-91cad2a8fdfb"
      },
      "source": [
        "from tensorflow.python.client import device_lib\n",
        "print(tf.test.gpu_device_name())"
      ],
      "execution_count": 74,
      "outputs": [
        {
          "output_type": "stream",
          "text": [
            "/device:GPU:0\n"
          ],
          "name": "stdout"
        }
      ]
    },
    {
      "cell_type": "markdown",
      "metadata": {
        "id": "vZleKZzLmwSK",
        "colab_type": "text"
      },
      "source": [
        "##NVIDIA GPU 상태보기"
      ]
    },
    {
      "cell_type": "code",
      "metadata": {
        "id": "TRnecZzqm0IK",
        "colab_type": "code",
        "colab": {
          "base_uri": "https://localhost:8080/",
          "height": 377
        },
        "outputId": "8d806a2e-fadd-4ecf-f865-369c661b9b4d"
      },
      "source": [
        "!nvidia-smi #리눅스 명령어: GPU의 상태를 출력함"
      ],
      "execution_count": 75,
      "outputs": [
        {
          "output_type": "stream",
          "text": [
            "Mon Aug 10 10:01:33 2020       \n",
            "+-----------------------------------------------------------------------------+\n",
            "| NVIDIA-SMI 450.57       Driver Version: 418.67       CUDA Version: 10.1     |\n",
            "|-------------------------------+----------------------+----------------------+\n",
            "| GPU  Name        Persistence-M| Bus-Id        Disp.A | Volatile Uncorr. ECC |\n",
            "| Fan  Temp  Perf  Pwr:Usage/Cap|         Memory-Usage | GPU-Util  Compute M. |\n",
            "|                               |                      |               MIG M. |\n",
            "|===============================+======================+======================|\n",
            "|   0  Tesla K80           Off  | 00000000:00:04.0 Off |                    0 |\n",
            "| N/A   50C    P0    59W / 149W |    159MiB / 11441MiB |      0%      Default |\n",
            "|                               |                      |                 ERR! |\n",
            "+-------------------------------+----------------------+----------------------+\n",
            "                                                                               \n",
            "+-----------------------------------------------------------------------------+\n",
            "| Processes:                                                                  |\n",
            "|  GPU   GI   CI        PID   Type   Process name                  GPU Memory |\n",
            "|        ID   ID                                                   Usage      |\n",
            "|=============================================================================|\n",
            "|  No running processes found                                                 |\n",
            "+-----------------------------------------------------------------------------+\n"
          ],
          "name": "stdout"
        }
      ]
    },
    {
      "cell_type": "markdown",
      "metadata": {
        "id": "roe08xnvm9-K",
        "colab_type": "text"
      },
      "source": [
        "##데이터 준비"
      ]
    },
    {
      "cell_type": "code",
      "metadata": {
        "id": "m75REMjLnAIy",
        "colab_type": "code",
        "colab": {
          "base_uri": "https://localhost:8080/",
          "height": 301
        },
        "outputId": "5cdc881c-cbe4-4d5c-d765-6c410454e465"
      },
      "source": [
        "import numpy as np\n",
        "x=np.arange(-1, 1, 0.01)\n",
        "y=x**2\n",
        "plt.scatter(x, y)\n",
        "\n",
        "print(len(x))\n",
        "print(x.shape)\n"
      ],
      "execution_count": 76,
      "outputs": [
        {
          "output_type": "stream",
          "text": [
            "200\n",
            "(200,)\n"
          ],
          "name": "stdout"
        },
        {
          "output_type": "display_data",
          "data": {
            "image/png": "[encoded data removed]",
            "text/plain": [
              "<Figure size 432x288 with 1 Axes>"
            ]
          },
          "metadata": {
            "tags": [],
            "needs_background": "light"
          }
        }
      ]
    },
    {
      "cell_type": "markdown",
      "metadata": {
        "id": "HVbkAv9Pn63h",
        "colab_type": "text"
      },
      "source": [
        "##Keras DNN 최소코드에 기본 추가"
      ]
    },
    {
      "cell_type": "code",
      "metadata": {
        "id": "DAJoa-Kxn--9",
        "colab_type": "code",
        "colab": {
          "base_uri": "https://localhost:8080/",
          "height": 71
        },
        "outputId": "187934c5-8595-457d-bd53-a052a43c4a01"
      },
      "source": [
        "from tensorflow.keras import optimizers\n",
        "from tensorflow.keras.layers import Dense, Input\n",
        "\n",
        "model=keras.Sequential()\n",
        "#model.add(Input(1))\n",
        "model.add(Dense(10, activation='tanh', input_shape=(1, )))\n",
        "model.add(Dense(10, activation='tanh'))\n",
        "model.add(Dense(1))\n",
        "\n",
        "#model.compile(optimizer='SGD', loss='mse')\n",
        "model.compile(optimizer='SGD', loss='mse', metrics=['mse'])\n",
        "\n",
        "#학습\n",
        "model.fit(x, y, epochs=1000, verbose=0, batch_size=20)\n",
        "\n",
        "#결과 출력\n",
        "loss,mse=model.evaluate(x, y) #성능 평가하기: 숫자로 평가하고 평가된 값이 출력에 추가됨\n",
        "print(\"loss=\", loss)\n",
        "print(\"mse=\", mse)\n",
        "\n"
      ],
      "execution_count": 77,
      "outputs": [
        {
          "output_type": "stream",
          "text": [
            "7/7 [==============================] - 0s 3ms/step - loss: 0.0010 - mse: 0.0010\n",
            "loss= 0.0010231402702629566\n",
            "mse= 0.0010231402702629566\n"
          ],
          "name": "stdout"
        }
      ]
    },
    {
      "cell_type": "code",
      "metadata": {
        "id": "V-bXhZFyrW6r",
        "colab_type": "code",
        "colab": {
          "base_uri": "https://localhost:8080/",
          "height": 265
        },
        "outputId": "daeb8b5b-3291-4b1f-c2fc-a042a4126188"
      },
      "source": [
        "#예측\n",
        "y_=model.predict(x)\n",
        "\n",
        "plt.scatter(x, y)\n",
        "plt.scatter(x, y_, color='r')\n",
        "plt.show()\n"
      ],
      "execution_count": 78,
      "outputs": [
        {
          "output_type": "display_data",
          "data": {
            "image/png": "[encoded data removed]",
            "text/plain": [
              "<Figure size 432x288 with 1 Axes>"
            ]
          },
          "metadata": {
            "tags": [],
            "needs_background": "light"
          }
        }
      ]
    },
    {
      "cell_type": "markdown",
      "metadata": {
        "id": "GbKC5-DFru4M",
        "colab_type": "text"
      },
      "source": [
        "##테스트셋으로 평가하기\n",
        "   데이터를 train set과 test set으로 나누어 준비한다."
      ]
    },
    {
      "cell_type": "code",
      "metadata": {
        "id": "KqnmTj0Zr4bK",
        "colab_type": "code",
        "colab": {
          "base_uri": "https://localhost:8080/",
          "height": 283
        },
        "outputId": "661abb75-5cac-48a1-b218-4c071c976bbd"
      },
      "source": [
        "x=np.arange(-1, 1, 0.01)\n",
        "np.random.shuffle(x)\n",
        "y=x**2\n",
        "\n",
        "split_index=int(x.shape[0]*0.6)\n",
        "\n",
        "train_x, test_x=x[:split_index], x[split_index:]\n",
        "train_y, test_y=y[:split_index], y[split_index:]\n",
        "\n",
        "#결과를 그래프로 보기\n",
        "plt.scatter(train_x, train_y)\n",
        "plt.scatter(test_x, test_y)\n",
        "plt.show"
      ],
      "execution_count": 79,
      "outputs": [
        {
          "output_type": "execute_result",
          "data": {
            "text/plain": [
              "<function matplotlib.pyplot.show>"
            ]
          },
          "metadata": {
            "tags": []
          },
          "execution_count": 79
        },
        {
          "output_type": "display_data",
          "data": {
            "image/png": "[encoded data removed]",
            "text/plain": [
              "<Figure size 432x288 with 1 Axes>"
            ]
          },
          "metadata": {
            "tags": [],
            "needs_background": "light"
          }
        }
      ]
    },
    {
      "cell_type": "code",
      "metadata": {
        "id": "virVKe7Js_q7",
        "colab_type": "code",
        "colab": {
          "base_uri": "https://localhost:8080/",
          "height": 136
        },
        "outputId": "ea313f54-ec2d-452c-fbb4-be143adaa4dd"
      },
      "source": [
        "model=keras.Sequential()\n",
        "model.add(Dense(10, activation='tanh', input_shape=(1,)))\n",
        "model.add(Dense(10, activation='tanh'))\n",
        "model.add(Dense(1))\n",
        "\n",
        "model.compile(optimizer='SGD', loss=\"mse\", metrics=[\"mse\"])\n",
        "\n",
        "start_time=time.time() #added\n",
        "\n",
        "#model.fit(x, y, epochs=1000, verbose=0, batch_size=20)\n",
        "model.fit(train_x, train_y, epochs=1000, verbose=0, batch_size=20)\n",
        "\n",
        "print(\"elapsed:{ }\", format(time.time()-start_time()) #added\n",
        "\n",
        "#train set으로 학습\n",
        "\n",
        "#loss, mse = model.evaluate(x, y)\n",
        "loss, mse=model.evaluate(test_x, test_y) #성능평가는 test_set으로\n",
        "print(\"loss=\", loss)\n",
        "print(\"mse=\", mse)\n",
        "\n",
        "#y_=model.predict(x)\n",
        "y_=model.predict(test_x)\n",
        "\n",
        "#plt.scatter(x.y)\n",
        "plt.scatter(test_x, test_y)\n",
        "#plt.scatter(x, y_, color='r')\n",
        "plt.scatter(test_x, y_, color='r')\n",
        "plt.show"
      ],
      "execution_count": 89,
      "outputs": [
        {
          "output_type": "error",
          "ename": "SyntaxError",
          "evalue": "ignored",
          "traceback": [
            "\u001b[0;36m  File \u001b[0;32m\"<ipython-input-89-b07ac26402fb>\"\u001b[0;36m, line \u001b[0;32m18\u001b[0m\n\u001b[0;31m    loss, mse=model.evaluate (test_x, test_y) #성능평가는 test_set으로\u001b[0m\n\u001b[0m       ^\u001b[0m\n\u001b[0;31mSyntaxError\u001b[0m\u001b[0;31m:\u001b[0m invalid syntax\n"
          ]
        }
      ]
    },
    {
      "cell_type": "markdown",
      "metadata": {
        "id": "1Daqc3JIvHyt",
        "colab_type": "text"
      },
      "source": [
        "  이후 비교를 위해 그래프를 저장해 둠"
      ]
    },
    {
      "cell_type": "code",
      "metadata": {
        "id": "OtW9ChCfvGhk",
        "colab_type": "code",
        "colab": {
          "base_uri": "https://localhost:8080/",
          "height": 553
        },
        "outputId": "4daaa058-2eae-42cf-8e5d-df2b9309fc33"
      },
      "source": [
        "plt.scatter(test_x, test_y)\n",
        "plt.scatter(test_x, y_, color='r')\n",
        "plt.savefig(\"base_result.png\")\n",
        "\n",
        "from IPython.display import Image\n",
        "display(Image(\"base_result.png\"))\n"
      ],
      "execution_count": 58,
      "outputs": [
        {
          "output_type": "display_data",
          "data": {
            "image/png": "[encoded data removed]",
            "text/plain": [
              "<IPython.core.display.Image object>"
            ]
          },
          "metadata": {
            "tags": []
          }
        },
        {
          "output_type": "display_data",
          "data": {
            "image/png": "[encoded data removed]",
            "text/plain": [
              "<Figure size 432x288 with 1 Axes>"
            ]
          },
          "metadata": {
            "tags": [],
            "needs_background": "light"
          }
        }
      ]
    }
  ]
}